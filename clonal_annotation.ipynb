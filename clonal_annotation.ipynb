{
 "cells": [
  {
   "cell_type": "code",
   "execution_count": 1,
   "metadata": {},
   "outputs": [],
   "source": [
    "import numpy as np, matplotlib.pyplot as plt, networkx as nx, pickle, json, gzip\n",
    "%matplotlib inline"
   ]
  },
  {
   "cell_type": "markdown",
   "metadata": {},
   "source": [
    "## Set parameters\n",
    "\n",
    "N_READS: Cutoff for the min number of reads supporting a given UMI/GFP-BC pair in a particular cell\n",
    "\n",
    "N_UMIS: Cutoff for the min number of UMIs supporting a given cell/GFP-BC pair\n",
    "\n",
    "N_HAMMING: Cutoff for the max hamming distance to collapse two GFP-BCs\n",
    "\n",
    "CELL_BCS_PATH: Path to a .txt file with one cell-BC per line, corresponding to rows of the gene expression counts matrix\n",
    "\n",
    "LIB_NAMES_PATH: Path to a .txt file with one library name per line, corresponding to rows of the gene expression counts matrix\n",
    "\n"
   ]
  },
  {
   "cell_type": "code",
   "execution_count": 2,
   "metadata": {},
   "outputs": [],
   "source": [
    "N_READS = 10\n",
    "N_UMIS = 3\n",
    "N_HAMMING = 3\n",
    "CELL_BCS_PATH = 'cell_bcs_flat.txt'\n",
    "LIB_NAMES_PATH = 'samp_id_flat.txt'"
   ]
  },
  {
   "cell_type": "markdown",
   "metadata": {},
   "source": [
    "## Read input files"
   ]
  },
  {
   "cell_type": "code",
   "execution_count": 3,
   "metadata": {},
   "outputs": [],
   "source": [
    "cell_bcs = open(CELL_BCS_PATH).read().strip('\\n').split('\\n')\n",
    "lib_names = open(LIB_NAMES_PATH).read().strip('\\n').split('\\n')"
   ]
  },
  {
   "cell_type": "markdown",
   "metadata": {},
   "source": [
    "## Load data and count reads\n",
    "\n",
    "Read in the output of step 1 (LARRY_sorting_and_filtering.py) and count the number of reads supporting each (Sample, Cell-BC, UMI, GFP-BC) combination"
   ]
  },
  {
   "cell_type": "code",
   "execution_count": 4,
   "metadata": {},
   "outputs": [
    {
     "name": "stdout",
     "output_type": "stream",
     "text": [
      "Reading in all barcodes\n",
      "Processed 1000000 reads\n",
      "Processed 2000000 reads\n",
      "Processed 3000000 reads\n",
      "Processed 4000000 reads\n",
      "Processed 5000000 reads\n",
      "Processed 6000000 reads\n",
      "Processed 7000000 reads\n",
      "Processed 8000000 reads\n",
      "Processed 9000000 reads\n",
      "Processed 10000000 reads\n",
      "Processed 11000000 reads\n",
      "Processed 12000000 reads\n",
      "Processed 13000000 reads\n",
      "Processed 14000000 reads\n",
      "Processed 15000000 reads\n",
      "Processed 16000000 reads\n",
      "Processed 17000000 reads\n",
      "Processed 18000000 reads\n",
      "Processed 19000000 reads\n",
      "Processed 20000000 reads\n",
      "Processed 21000000 reads\n",
      "Processed 22000000 reads\n",
      "Processed 23000000 reads\n",
      "Processed 24000000 reads\n",
      "Processed 25000000 reads\n",
      "Processed 26000000 reads\n",
      "Processed 27000000 reads\n",
      "Processed 28000000 reads\n",
      "Processed 29000000 reads\n",
      "Processed 30000000 reads\n",
      "Processed 31000000 reads\n",
      "Processed 32000000 reads\n",
      "Processed 33000000 reads\n",
      "Processed 34000000 reads\n",
      "Processed 35000000 reads\n",
      "Processed 36000000 reads\n",
      "Processed 37000000 reads\n",
      "Processed 38000000 reads\n",
      "Processed 39000000 reads\n",
      "Processed 40000000 reads\n",
      "Processed 41000000 reads\n",
      "Processed 42000000 reads\n",
      "Processed 43000000 reads\n",
      "Processed 44000000 reads\n",
      "Processed 45000000 reads\n",
      "Processed 46000000 reads\n",
      "Processed 47000000 reads\n",
      "Processed 48000000 reads\n",
      "Processed 49000000 reads\n",
      "Processed 50000000 reads\n",
      "Processed 51000000 reads\n",
      "Processed 52000000 reads\n",
      "Processed 53000000 reads\n",
      "Processed 54000000 reads\n",
      "Processed 55000000 reads\n",
      "Processed 56000000 reads\n",
      "Processed 57000000 reads\n",
      "Processed 58000000 reads\n",
      "Processed 59000000 reads\n",
      "Processed 60000000 reads\n",
      "Processed 61000000 reads\n",
      "Processed 62000000 reads\n",
      "Processed 63000000 reads\n",
      "Processed 64000000 reads\n",
      "Processed 65000000 reads\n",
      "Processed 66000000 reads\n",
      "Processed 67000000 reads\n",
      "Processed 68000000 reads\n",
      "Processed 69000000 reads\n",
      "Processed 70000000 reads\n",
      "Processed 71000000 reads\n",
      "Processed 72000000 reads\n",
      "Processed 73000000 reads\n",
      "Processed 74000000 reads\n",
      "Processed 75000000 reads\n",
      "Processed 76000000 reads\n"
     ]
    }
   ],
   "source": [
    "counts = {}\n",
    "f = gzip.open('LARRY_sorted_and_filtered_barcodes.fastq.gz')\n",
    "l = f.readline().decode(\"utf-8\").strip('\\n')\n",
    "current_tag = []\n",
    "i = 0\n",
    "print('Reading in all barcodes')\n",
    "while not (l == '' and len(current_tag)==0):\n",
    "    i += 1\n",
    "    if i % (3*10**6)==0: print('Processed '+repr(int(i/3))+' reads')\n",
    "    if l == '':\n",
    "        current_tag = []\n",
    "    elif l[0] == '>':\n",
    "        current_tag = l[1:].split(',')\n",
    "    elif l != '' and len(current_tag)==3:\n",
    "        current_tag.append(l)\n",
    "        current_tag = tuple(current_tag)\n",
    "        if not current_tag in counts: counts[current_tag] = 0\n",
    "        counts[current_tag] += 1\n",
    "        \n",
    "    l = f.readline().decode(\"utf-8\").strip('\\n')"
   ]
  },
  {
   "cell_type": "markdown",
   "metadata": {},
   "source": [
    "## Filter by number of reads\n",
    "Continue with analysis with (Sample, Cell-BC, UMI, GFP-BC) combinations supported by at least N_READS reads"
   ]
  },
  {
   "cell_type": "code",
   "execution_count": 5,
   "metadata": {},
   "outputs": [
    {
     "name": "stdout",
     "output_type": "stream",
     "text": [
      "Retaining 553571 out of 4074030 (Sample,Cell-BC,UMI,GFP-BC) combinations\n"
     ]
    },
    {
     "data": {
      "image/png": "[encoded data removed]",
      "text/plain": [
       "<Figure size 432x288 with 1 Axes>"
      ]
     },
     "metadata": {
      "needs_background": "light"
     },
     "output_type": "display_data"
    }
   ],
   "source": [
    "num_reads = [v for k,v in counts.items()]\n",
    "plt.hist(np.log(num_reads)/np.log(10), bins=50)\n",
    "plt.plot([np.log(N_READS)/np.log(10),np.log(N_READS)/np.log(N_READS)],[1,10**5],'-k',linewidth=2)\n",
    "plt.xticks(range(5),np.logspace(0,5,6))\n",
    "plt.text(np.log(N_READS)/np.log(10)*1.1,10**5*.8,'N_READS cutoff', fontsize=12)\n",
    "plt.yscale('log')\n",
    "\n",
    "counts_filtered = {k:v for k,v in counts.items() if v >= N_READS}\n",
    "print('Retaining '+repr(len(counts_filtered))+ ' out of '+repr(len(counts))+' (Sample,Cell-BC,UMI,GFP-BC) combinations')"
   ]
  },
  {
   "cell_type": "markdown",
   "metadata": {},
   "source": [
    "## Collapse GFP-BCs by hamming distance"
   ]
  },
  {
   "cell_type": "code",
   "execution_count": 6,
   "metadata": {},
   "outputs": [
    {
     "name": "stdout",
     "output_type": "stream",
     "text": [
      "Mapped 500 out of 5152 barcodes\n",
      "Mapped 1000 out of 5152 barcodes\n",
      "Mapped 1500 out of 5152 barcodes\n",
      "Mapped 2000 out of 5152 barcodes\n",
      "Mapped 2500 out of 5152 barcodes\n",
      "Mapped 3000 out of 5152 barcodes\n",
      "Mapped 3500 out of 5152 barcodes\n",
      "Mapped 4000 out of 5152 barcodes\n",
      "Mapped 4500 out of 5152 barcodes\n",
      "Mapped 5000 out of 5152 barcodes\n",
      "\n",
      "Collapsed 1373 barcodes\n"
     ]
    }
   ],
   "source": [
    "def hamming(bc1,bc2): return np.sum([x1 != x2 for x1,x2 in zip(bc1,bc2)])\n",
    "\n",
    "all_gfp_bcs = sorted(set([k[3] for k in counts_filtered]))\n",
    "good_gfp_bcs = []\n",
    "bc_map = {}\n",
    "for i,bc1 in enumerate(all_gfp_bcs):\n",
    "    if i > 0 and i % 500 == 0: print('Mapped '+repr(i)+' out of '+repr(len(all_gfp_bcs))+' barcodes')\n",
    "    mapped = False\n",
    "    for bc2 in good_gfp_bcs:\n",
    "        if hamming(bc1,bc2) <= N_HAMMING:\n",
    "            mapped = True\n",
    "            bc_map[bc1] = bc2\n",
    "            break\n",
    "    if not mapped:\n",
    "        good_gfp_bcs.append(bc1)\n",
    "\n",
    "print('\\nCollapsed '+repr(len(bc_map))+' barcodes')\n",
    "for bc in good_gfp_bcs: bc_map[bc] = bc"
   ]
  },
  {
   "cell_type": "markdown",
   "metadata": {},
   "source": [
    "## Filter GFP-barcodes by UMI\n",
    "Index (UMI, GFP-BC) combinations to cells, then filter out BCs supported by fewer than N_UMIS UMIs"
   ]
  },
  {
   "cell_type": "code",
   "execution_count": 7,
   "metadata": {},
   "outputs": [
    {
     "name": "stdout",
     "output_type": "stream",
     "text": [
      "\n",
      "Final annotation has 2769 clones in 13303 cells\n"
     ]
    },
    {
     "data": {
      "image/png": "[encoded data removed]",
      "text/plain": [
       "<Figure size 432x288 with 1 Axes>"
      ]
     },
     "metadata": {
      "needs_background": "light"
     },
     "output_type": "display_data"
    }
   ],
   "source": [
    "cell_data = {}\n",
    "for lib,cell in zip(lib_names,cell_bcs):\n",
    "    cell_data[(lib,cell)] = {}\n",
    "\n",
    "for lib,cell,umi,BC in counts_filtered.keys():\n",
    "    if (lib,cell) in cell_data:\n",
    "        if not BC in cell_data[(lib,cell)]:\n",
    "            cell_data[(lib,cell)][BC] = 0\n",
    "        cell_data[(lib,cell)][BC] += 1\n",
    "\n",
    "BC_lists = []\n",
    "for i in range(1,10):\n",
    "    BC_list = []\n",
    "    for lib,cell in zip(lib_names,cell_bcs):\n",
    "        bc_counts = cell_data[(lib,cell)]\n",
    "        valid_bcs = [bc_map[k] for k,v in bc_counts.items() if v >= i]\n",
    "        BC_list.append(''.join(sorted(valid_bcs)))\n",
    "    BC_lists.append(BC_list)\n",
    "\n",
    "efficiency = np.array([len([ll for ll in l if len(ll)>0]) for l in BC_lists]) / len(cell_bcs)\n",
    "plt.plot(range(1,10),efficiency)\n",
    "plt.plot([N_UMIS,N_UMIS],[np.min(efficiency),np.max(efficiency)],'-k',linewidth=2)\n",
    "plt.text(N_UMIS*1.1,np.max(efficiency)*.95,'UMI cutoff',fontsize=14)\n",
    "\n",
    "final_BCs = BC_lists[N_UMIS-1]\n",
    "print('\\nFinal annotation has '+repr(len(set(final_BCs)))+' clones in '+repr(len([l for l in final_BCs if len(l)>0]))+' cells')"
   ]
  },
  {
   "cell_type": "markdown",
   "metadata": {},
   "source": [
    "## Outout clonal anotations\n",
    "There are three output files: \n",
    "- clone_mat.csv\n",
    "- clone_mat.npy\n",
    "- barcode_list.txt\n",
    "\n",
    "The two clone_mat files store a binary matrix where rows are cells and columns are clones. A \"1\" at entry (i,j) indicates that cell i belongs to clone j. The barcode_list file stores the barcode for each cell. Two barcode strings separated by an underscore indicates that the cell contains multiple barcodes. An empty line implies no barcode for that cell."
   ]
  },
  {
   "cell_type": "code",
   "execution_count": 8,
   "metadata": {},
   "outputs": [],
   "source": [
    "BC_set = sorted(set([bc for bc in final_BCs if bc != '']))\n",
    "clone_mat = np.zeros((len(final_BCs),len(BC_set)))\n",
    "for i,bc in enumerate(final_BCs):\n",
    "    if bc != '':\n",
    "        j = BC_set.index(bc)\n",
    "        clone_mat[i,j] = 1\n",
    "clone_mat = np.array(clone_mat,dtype=int)\n",
    "np.savetxt('clone_mat.csv',clone_mat,delimiter=',',fmt='%i');\n",
    "np.save('clone_mat.npy',clone_mat);\n",
    "open('barcode_list.txt','w').write('\\n'.join(final_BCs));"
   ]
  },
  {
   "cell_type": "code",
   "execution_count": null,
   "metadata": {},
   "outputs": [],
   "source": []
  }
 ],
 "metadata": {
  "kernelspec": {
   "display_name": "Python 3",
   "language": "python",
   "name": "python3"
  },
  "language_info": {
   "codemirror_mode": {
    "name": "ipython",
    "version": 3
   },
   "file_extension": ".py",
   "mimetype": "text/x-python",
   "name": "python",
   "nbconvert_exporter": "python",
   "pygments_lexer": "ipython3",
   "version": "3.6.6"
  }
 },
 "nbformat": 4,
 "nbformat_minor": 2
}
